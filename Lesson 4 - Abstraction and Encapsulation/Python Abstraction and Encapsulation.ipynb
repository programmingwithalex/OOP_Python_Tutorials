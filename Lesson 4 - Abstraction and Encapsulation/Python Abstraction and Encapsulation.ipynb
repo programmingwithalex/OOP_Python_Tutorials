{
 "cells": [
  {
   "cell_type": "markdown",
   "metadata": {},
   "source": [
    "### How do encapsulation and abstraction differ and why are they both important?\n",
    "\n",
    "Encapsulation and abstraction are both OOP (Object-Oriented Programming) concepts. Both concepts focus on limiting the end user's access to either data or functionality of the program. "
   ]
  },
  {
   "cell_type": "markdown",
   "metadata": {},
   "source": [
    "----\n",
    "\n",
    "![title](images/car.jpg)\n",
    "\n",
    "----"
   ]
  },
  {
   "cell_type": "markdown",
   "metadata": {},
   "source": [
    "---\n",
    "\n",
    "First, let's consider a real-world example of **encapsulation**. You have a car, which has a lot of fucntionality. A simple function is rolling up the windows. A more advanced function is transferring gas to the engine.\n",
    "\n",
    "Now, the end user should not be able to modify how the gas is transferred to the engine or be able to call that function directly. Instead, they should have to go through a different function to be able to do this. By different function, I mean something simpler. For example, the user wouldn't call the function `send_gas_to_engine()`, but would instead call the function `accelerate()`, which would call the function `send_gas_to_engine()`. Thus, **encapsulation** is packaging pieces of the class together that aren't meant to be accessed outside of the class, and then providing simpler public methods to interact with those private pieces.\n",
    "\n",
    "---\n",
    "\n",
    "Next, let's consider a real-world example of an **abstraction**. Everyone knows what a car is and the basic operational mechanics. You have to turn the key or push a button to start the car, press the gas pedal to accelerate, and push the brake pedal to stop. \n",
    "\n",
    "However, most people don't know which pistons are firing in the engine, at what speed the break pad is being applied to the wheels, the parameters for turning on the check engine light. All of these complex mechanics are **abstracted** away from the user, because they don't need to know these things to operate the car, nor should they have to. \n",
    "\n",
    "In software, the programmer's goal is to provide the simplest interface possible to the end user to accomplish what the user needs to do.\n",
    "\n",
    "---\n",
    "\n",
    "You might have read that and said these are essentially the same thing, which they *essentially* are. The way they relate is:\n",
    "\n",
    "> **encapsulation is a method to implement abstraction**\n",
    "\n",
    "**Encapsulation** is a design choice you make at the programming level to make variables/functions private, thus not allowing them to be accessed outside of the class (i.e. can't be accessed by the end user). **Abstraction** is then providing a public interface to that functionality through higher-level functionality that doesn't require the user to interact with or even understand how the underlying functionality works.\n",
    "\n",
    "Turning on a car should always be as simple as pushing a button.\n",
    "\n",
    "---"
   ]
  },
  {
   "cell_type": "markdown",
   "metadata": {},
   "source": [
    "## Table of Contents\n",
    "\n",
    "\n",
    "1\\. Car Example\n",
    "\n",
    "2\\. Coffee Example\n",
    "\n",
    "---"
   ]
  },
  {
   "cell_type": "markdown",
   "metadata": {},
   "source": [
    "## 1\\. Car Example"
   ]
  },
  {
   "cell_type": "code",
   "execution_count": 1,
   "metadata": {},
   "outputs": [],
   "source": [
    "class Car:\n",
    "    __max_speed = 200\n",
    "    \n",
    "    def __init__(self, speed):\n",
    "        self.__speed = speed  # private var user can't access\n",
    "        self.__update_software()  # private method user can't access\n",
    "        print('Car is created.\\n')\n",
    "        \n",
    "    def __update_software(self):\n",
    "        '''\n",
    "            detailed implementation of updating softare for car\n",
    "        '''\n",
    "        print('Software has been updated.')\n",
    "    \n",
    "    def accelerate(self):\n",
    "        self.__send_gas_to_engine()  # private method user can't access\n",
    "        \n",
    "        if self.__speed < Car.__max_speed - 5:\n",
    "            self.__speed += 5\n",
    "        elif self.__speed < Car.__max_speed:\n",
    "            self.__speed = Car.__max_speed\n",
    "        else:\n",
    "            print(f'Can\\'t exceed max speed of: {Car.max_speed}.')\n",
    "    \n",
    "    def __send_gas_to_engine(self):\n",
    "        ''' \n",
    "            detailed implementation of transferring gas from\n",
    "            the gas tank to the engine, while controlling\n",
    "            the total amount\n",
    "        '''\n",
    "        print('Sending gas to engine.')\n",
    "    \n",
    "    def get_speed(self):\n",
    "        print(f'The speed is now {self.__speed}.\\n')"
   ]
  },
  {
   "cell_type": "code",
   "execution_count": 2,
   "metadata": {},
   "outputs": [
    {
     "name": "stdout",
     "output_type": "stream",
     "text": [
      "Software has been updated.\n",
      "Car is created.\n",
      "\n",
      "Sending gas to engine.\n",
      "The speed is now 5.\n",
      "\n",
      "Sending gas to engine.\n",
      "The speed is now 10.\n",
      "\n",
      "Sending gas to engine.\n",
      "The speed is now 15.\n",
      "\n"
     ]
    }
   ],
   "source": [
    "car = Car(speed=0)\n",
    "\n",
    "car.accelerate()\n",
    "car.get_speed()\n",
    "\n",
    "car.accelerate()\n",
    "car.get_speed()\n",
    "\n",
    "car.accelerate()\n",
    "car.get_speed()"
   ]
  },
  {
   "cell_type": "markdown",
   "metadata": {},
   "source": [
    "---\n",
    "## 2\\. Coffee Example"
   ]
  },
  {
   "cell_type": "code",
   "execution_count": 3,
   "metadata": {},
   "outputs": [],
   "source": [
    "class CoffeeMaker:\n",
    "    __valid_coffee_types = ['black', 'milk']\n",
    "    \n",
    "    def __init__(self):\n",
    "        self.__turn_on()\n",
    "\n",
    "    def __turn_on(self):\n",
    "        self.__water_temp = 100\n",
    "        self.__lights_on = True\n",
    "        \n",
    "    def __validate_coffee_type(self, coffee_type):\n",
    "        if coffee_type not in CoffeeMaker.__valid_coffee_types:\n",
    "            print('Not valid coffee type.')\n",
    "            return False\n",
    "        return True\n",
    "    \n",
    "    def __add_extras(self):\n",
    "        if self.__coffee_type == 'milk':\n",
    "            self.__use_milk = True\n",
    "            print('Added milk to coffee.')\n",
    "    \n",
    "    def __boil_water(self):\n",
    "        self.__water_temp = 250\n",
    "    \n",
    "    def __pour_coffee(self):\n",
    "        self.__nozzle_dispense = True\n",
    "        \n",
    "    def __reset(self):\n",
    "        self.__use_milk = False\n",
    "        self.__water_temp = 100\n",
    "        self.__nozzle_dispense = False\n",
    "        \n",
    "        print('Values set back to default.\\n')\n",
    "        \n",
    "    def turn_off(self):\n",
    "        self.__water_temp = 0\n",
    "        self.__lights_on = False\n",
    "    \n",
    "    def make_coffee(self, coffee_type):\n",
    "        if not self.__validate_coffee_type(coffee_type):\n",
    "            print('You must select a valid type of coffee.\\n')\n",
    "            return\n",
    "        \n",
    "        self.__coffee_type = coffee_type\n",
    "        self.__add_extras()\n",
    "        self.__boil_water()\n",
    "        self.__pour_coffee()\n",
    "        \n",
    "        print(f'Made a {coffee_type} coffee.')\n",
    "        \n",
    "        self.__reset()"
   ]
  },
  {
   "cell_type": "code",
   "execution_count": 4,
   "metadata": {},
   "outputs": [
    {
     "name": "stdout",
     "output_type": "stream",
     "text": [
      "Made a black coffee.\n",
      "Values set back to default.\n",
      "\n",
      "Added milk to coffee.\n",
      "Made a milk coffee.\n",
      "Values set back to default.\n",
      "\n"
     ]
    }
   ],
   "source": [
    "coffee_maker = CoffeeMaker()\n",
    "coffee_maker.make_coffee('black')\n",
    "\n",
    "coffee_maker.make_coffee('milk')"
   ]
  },
  {
   "cell_type": "code",
   "execution_count": 5,
   "metadata": {},
   "outputs": [
    {
     "name": "stdout",
     "output_type": "stream",
     "text": [
      "Not valid coffee type.\n",
      "You must select a valid type of coffee.\n",
      "\n"
     ]
    }
   ],
   "source": [
    "coffee_maker.make_coffee('mocha')"
   ]
  }
 ],
 "metadata": {
  "kernelspec": {
   "display_name": "Python 3",
   "language": "python",
   "name": "python3"
  },
  "language_info": {
   "codemirror_mode": {
    "name": "ipython",
    "version": 3
   },
   "file_extension": ".py",
   "mimetype": "text/x-python",
   "name": "python",
   "nbconvert_exporter": "python",
   "pygments_lexer": "ipython3",
   "version": "3.7.4"
  }
 },
 "nbformat": 4,
 "nbformat_minor": 4
}
