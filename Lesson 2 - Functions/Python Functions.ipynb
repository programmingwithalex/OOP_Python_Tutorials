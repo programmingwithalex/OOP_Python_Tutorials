{
 "cells": [
  {
   "cell_type": "markdown",
   "metadata": {},
   "source": [
    "### What are functions and why are they needed in Python?\n",
    "\n",
    "Functions package code into a single location that can be called anywhere from the program just using the function name instead of having to rewrite the code inside of the function. \n",
    "\n",
    "Functions are needed in every programming language, as logic is rarely ever used just once in a program. Functions require less code to be written, prevents code rewrite, makes code cleaner and easier to understand, and ultimately reduces the amount of time needed to write code.\n",
    "\n",
    "For this series, I'll use a different example than our store example from the beginner series. In this series, imagine you're working at a car factory as the programmer who's writing all the software. One of the pieces of code you have to write is to whenever a car is made to increase the inventory. Whenever a car is sold, broken, decommissioned, or recalled for repairs to decrease the inventory for that car. \n",
    "\n",
    "This happens thousands of times a day and multiple scenarios can trigger this. Instead of rewriting the exact same code in multiple places in your program, write a single **function** called *update_car_count* instead and call that function.\n",
    "\n",
    "---"
   ]
  },
  {
   "cell_type": "markdown",
   "metadata": {},
   "source": [
    "## Table of Contents\n",
    "1. Syntax for Functions\n",
    "\n",
    "\n",
    "2. Calling a Function\n",
    "    \n",
    "    \n",
    "3. Function Parameters\n",
    "        \n",
    "    \n",
    "4. Pass by Reference\n",
    "    \n",
    "    \n",
    "5. Default Parameters\n",
    "\n",
    "\n",
    "6. Arbitrary Parameters *args\n",
    "\n",
    "\n",
    "7. Keyword Parameters **kwargs\n",
    "\n",
    "\n",
    "8. Docstring"
   ]
  },
  {
   "cell_type": "markdown",
   "metadata": {},
   "source": [
    "## 1. Syntax for Functions\n",
    "\n",
    "Conditionals are covered in Python for Beginners Tutorial - Lesson 6."
   ]
  },
  {
   "cell_type": "markdown",
   "metadata": {},
   "source": [
    "----\n",
    "\n",
    "![title](images/python_function_example.png)\n",
    "\n",
    "----"
   ]
  },
  {
   "cell_type": "markdown",
   "metadata": {},
   "source": [
    "Notes:\n",
    "* return value is optional\n",
    "* listed function parameters are required : calling `fake_calculation` requires you to pass in `arg1, arg2, arg3`\n",
    "* functions alone don't have to have parameters : `def fake_calculation():` would work too\n",
    "* everything that's part of the function must be indented at least once more than the function header"
   ]
  },
  {
   "cell_type": "markdown",
   "metadata": {},
   "source": [
    "## 2. Calling a Function"
   ]
  },
  {
   "cell_type": "code",
   "execution_count": 1,
   "metadata": {},
   "outputs": [],
   "source": [
    "def print_error():  # no parameters\n",
    "    print('You have made a out-of bounds error. This occurs a lot.')"
   ]
  },
  {
   "cell_type": "markdown",
   "metadata": {},
   "source": [
    "Say you didn't use the function above. Instead you hardcoded the print error message when you have an out-of-bounds error in your program. You put this print line in your program in 20 different places to print if the error happens. \n",
    "\n",
    "Fast-forward a week. You have a typo in the string, you mispelled error as errro. If you didn't use a function, you have to change 20 strings all throughout your program. If you used a function, you only have to change **one string**."
   ]
  },
  {
   "cell_type": "code",
   "execution_count": 2,
   "metadata": {},
   "outputs": [
    {
     "name": "stdout",
     "output_type": "stream",
     "text": [
      "Joe\n",
      "234\n",
      "{'a': 3, 'b': 100}\n"
     ]
    }
   ],
   "source": [
    "def print_name(name):\n",
    "    print(name)\n",
    "    \n",
    "print_name('Joe')\n",
    "print_name(234)\n",
    "print_name({'a': 3, 'b': 100})"
   ]
  },
  {
   "cell_type": "code",
   "execution_count": 3,
   "metadata": {},
   "outputs": [
    {
     "name": "stdout",
     "output_type": "stream",
     "text": [
      "x is 4\n",
      "y is 3\n",
      "x is 100\n",
      "y is -20\n",
      "7 80\n"
     ]
    }
   ],
   "source": [
    "def sum_nums(x, y):\n",
    "    print(f'x is {x}')\n",
    "    print('y is {}'.format(y))\n",
    "    return x + y\n",
    "\n",
    "sum1 = sum_nums(4, 3)\n",
    "sum2 = sum_nums(100, -20)\n",
    "\n",
    "print(sum1, sum2)"
   ]
  },
  {
   "cell_type": "markdown",
   "metadata": {},
   "source": [
    "## 3. Function Parameters"
   ]
  },
  {
   "cell_type": "code",
   "execution_count": 4,
   "metadata": {},
   "outputs": [
    {
     "name": "stdout",
     "output_type": "stream",
     "text": [
      "Joe\n",
      "234\n",
      "{'a': 3, 'b': 100}\n"
     ]
    }
   ],
   "source": [
    "def print_name(name):\n",
    "    print(name)\n",
    "    \n",
    "print_name('Joe')\n",
    "print_name(234)\n",
    "print_name({'a': 3, 'b': 100})"
   ]
  },
  {
   "cell_type": "markdown",
   "metadata": {},
   "source": [
    "Function arguments in python have no type adherence. The function could be made for only strings, but that can't be enforced in python."
   ]
  },
  {
   "cell_type": "code",
   "execution_count": 5,
   "metadata": {},
   "outputs": [
    {
     "name": "stdout",
     "output_type": "stream",
     "text": [
      "josh luck the second\n"
     ]
    },
    {
     "ename": "TypeError",
     "evalue": "print_name() missing 1 required positional argument: 'suffix'",
     "output_type": "error",
     "traceback": [
      "\u001b[1;31m---------------------------------------------------------------------------\u001b[0m",
      "\u001b[1;31mTypeError\u001b[0m                                 Traceback (most recent call last)",
      "\u001b[1;32m<ipython-input-5-215f08532a67>\u001b[0m in \u001b[0;36m<module>\u001b[1;34m\u001b[0m\n\u001b[0;32m      4\u001b[0m \u001b[0mprint_name\u001b[0m\u001b[1;33m(\u001b[0m\u001b[1;34m'josh'\u001b[0m\u001b[1;33m,\u001b[0m \u001b[1;34m'luck'\u001b[0m\u001b[1;33m,\u001b[0m \u001b[1;34m'the second'\u001b[0m\u001b[1;33m)\u001b[0m  \u001b[1;31m# no error\u001b[0m\u001b[1;33m\u001b[0m\u001b[1;33m\u001b[0m\u001b[0m\n\u001b[0;32m      5\u001b[0m \u001b[1;33m\u001b[0m\u001b[0m\n\u001b[1;32m----> 6\u001b[1;33m \u001b[0mprint_name\u001b[0m\u001b[1;33m(\u001b[0m\u001b[1;34m'josh'\u001b[0m\u001b[1;33m,\u001b[0m \u001b[1;34m'luck'\u001b[0m\u001b[1;33m)\u001b[0m  \u001b[1;31m# missing suffix argument\u001b[0m\u001b[1;33m\u001b[0m\u001b[1;33m\u001b[0m\u001b[0m\n\u001b[0m",
      "\u001b[1;31mTypeError\u001b[0m: print_name() missing 1 required positional argument: 'suffix'"
     ]
    }
   ],
   "source": [
    "def print_name(first_name, last_name, suffix):\n",
    "    print(f'{first_name} {last_name} {suffix}')\n",
    "    \n",
    "print_name('josh', 'luck', 'the second')  # no error\n",
    "\n",
    "print_name('josh', 'luck')  # missing suffix argument"
   ]
  },
  {
   "cell_type": "markdown",
   "metadata": {},
   "source": [
    "All parameters in the function header must be passed in."
   ]
  },
  {
   "cell_type": "markdown",
   "metadata": {},
   "source": [
    "## 4. Pass by Reference\n",
    "\n",
    "Data Types are covered in Python for Beginners Tutorial - Lesson 2.\n",
    "\n",
    "\n",
    "Pass by reference means, if the parameter passed into the function is a **mutable** data type, any modification to the variable inside of the function will cause the variable to change outside the function as well."
   ]
  },
  {
   "cell_type": "code",
   "execution_count": 6,
   "metadata": {},
   "outputs": [
    {
     "name": "stdout",
     "output_type": "stream",
     "text": [
      "List before adding 1: [1, 2, 3, 4, 5]\n",
      "List after adding 1: [2, 3, 4, 5, 6]\n",
      "[2, 3, 4, 5, 6]\n"
     ]
    }
   ],
   "source": [
    "def print_list_plus_1(lst):\n",
    "    print(f'List before adding 1: {lst}')\n",
    "    for i in range(len(lst)):\n",
    "        lst[i] += 1  # modifies lst argument passed in\n",
    "    \n",
    "    print(f'List after adding 1: {lst}')\n",
    "    \n",
    "int_lst = [1, 2, 3, 4, 5]\n",
    "\n",
    "print_list_plus_1(int_lst)  # modifies int_lst\n",
    "\n",
    "print(int_lst)  # no longer original int_lst"
   ]
  },
  {
   "cell_type": "code",
   "execution_count": 7,
   "metadata": {},
   "outputs": [
    {
     "name": "stdout",
     "output_type": "stream",
     "text": [
      "josh luck\n",
      "josh\n"
     ]
    }
   ],
   "source": [
    "def print_full_name(first_name, last_name):\n",
    "    first_name = first_name + ' ' + last_name  # only modifies first_name in the function\n",
    "    print(first_name)\n",
    "    \n",
    "first_name = 'josh'\n",
    "last_name = 'luck'\n",
    "\n",
    "print_full_name(first_name, last_name)  # does not modify original first_name\n",
    "print(first_name)  # unchanged b/c str is immutable"
   ]
  },
  {
   "cell_type": "markdown",
   "metadata": {},
   "source": [
    "## 5. Default Parameters\n",
    "\n",
    "The workaround for every parameter in a function header needing to be passed in."
   ]
  },
  {
   "cell_type": "code",
   "execution_count": 8,
   "metadata": {},
   "outputs": [
    {
     "name": "stdout",
     "output_type": "stream",
     "text": [
      "Joseph Benavidez\n",
      "Conor Smith\n"
     ]
    }
   ],
   "source": [
    "def print_full_name(first_name, last_name='Smith'):\n",
    "    print(first_name + ' ' + last_name)\n",
    "    \n",
    "print_full_name('Joseph', 'Benavidez')\n",
    "print_full_name('Conor')  # works even though last_name not passed in"
   ]
  },
  {
   "cell_type": "code",
   "execution_count": 9,
   "metadata": {},
   "outputs": [
    {
     "ename": "SyntaxError",
     "evalue": "non-default argument follows default argument (<ipython-input-9-dbf5c13050e5>, line 1)",
     "output_type": "error",
     "traceback": [
      "\u001b[1;36m  File \u001b[1;32m\"<ipython-input-9-dbf5c13050e5>\"\u001b[1;36m, line \u001b[1;32m1\u001b[0m\n\u001b[1;33m    def print_full_name(first_name='Joseph', last_name):\u001b[0m\n\u001b[1;37m                       ^\u001b[0m\n\u001b[1;31mSyntaxError\u001b[0m\u001b[1;31m:\u001b[0m non-default argument follows default argument\n"
     ]
    }
   ],
   "source": [
    "def print_full_name(first_name='Joseph', last_name):\n",
    "    print(first_name + ' ' + last_name)"
   ]
  },
  {
   "cell_type": "markdown",
   "metadata": {},
   "source": [
    "Default arguments always have to be at the end of the parameters of a function parameter list."
   ]
  },
  {
   "cell_type": "markdown",
   "metadata": {},
   "source": [
    "## 6. Arbitrary Parameters *args\n",
    "\n",
    "The function needs to handle a variable number of parameters. \n",
    "\n",
    "*args is a tuple. Refer back to Python for Beginngers Tutorial - Lesson 2 for a quick overview of tuples."
   ]
  },
  {
   "cell_type": "code",
   "execution_count": 10,
   "metadata": {},
   "outputs": [
    {
     "name": "stdout",
     "output_type": "stream",
     "text": [
      "1. joe\n",
      "2. conor\n",
      "3. joanna\n",
      "4. ronda\n"
     ]
    }
   ],
   "source": [
    "def pretty_print(*args):\n",
    "    for i, x in enumerate(args):\n",
    "        print(f'{i+1}. {x}')\n",
    "        \n",
    "pretty_print('joe', 'conor', 'joanna', 'ronda')"
   ]
  },
  {
   "cell_type": "markdown",
   "metadata": {},
   "source": [
    "`enumerate` takes returns two values, first an incrementing counter starting at 0 denoting the position of the element and the element in the list."
   ]
  },
  {
   "cell_type": "markdown",
   "metadata": {},
   "source": [
    "## 7. Keyword Parameters **kwargs\n",
    "\n",
    "The function needs to handle a variable number of **named** parameters.\n",
    "\n",
    "**kwargs can be treated like a dictionary. Dictionaries are covered in Python for Beginners Tutorial - Lesson 5."
   ]
  },
  {
   "cell_type": "code",
   "execution_count": 11,
   "metadata": {},
   "outputs": [
    {
     "name": "stdout",
     "output_type": "stream",
     "text": [
      "fighter1 : joe\n",
      "fighter2 : conor\n",
      "fighter3 : joanna\n",
      "fighter4 : ronda\n"
     ]
    }
   ],
   "source": [
    "def pretty_print(**kwargs):\n",
    "    for key, value in kwargs.items():\n",
    "        print(f'{key} : {value}')\n",
    "        \n",
    "pretty_print(fighter1='joe', fighter2='conor', fighter3='joanna', fighter4='ronda')"
   ]
  },
  {
   "cell_type": "markdown",
   "metadata": {},
   "source": [
    "## 8. Docstring\n",
    "\n",
    "Line immediately underneath the function header saying what the function does."
   ]
  },
  {
   "cell_type": "code",
   "execution_count": 12,
   "metadata": {},
   "outputs": [],
   "source": [
    "# simple docstring\n",
    "def sum_two(x, y):\n",
    "    \"\"\"Sum the two inputs.\"\"\"\n",
    "    return x + y"
   ]
  },
  {
   "cell_type": "code",
   "execution_count": 13,
   "metadata": {},
   "outputs": [],
   "source": [
    "# more informative docstring\n",
    "def sum_two(x, y):\n",
    "    '''\n",
    "    Sums the two inputs.\n",
    "    \n",
    "    Parameters\n",
    "    -------------\n",
    "    x : int/float\n",
    "    y : int/float\n",
    "    \n",
    "    Returns\n",
    "    -------------\n",
    "    x + y\n",
    "    '''\n",
    "    return x + y"
   ]
  }
 ],
 "metadata": {
  "kernelspec": {
   "display_name": "Python 3",
   "language": "python",
   "name": "python3"
  },
  "language_info": {
   "codemirror_mode": {
    "name": "ipython",
    "version": 3
   },
   "file_extension": ".py",
   "mimetype": "text/x-python",
   "name": "python",
   "nbconvert_exporter": "python",
   "pygments_lexer": "ipython3",
   "version": "3.7.4"
  }
 },
 "nbformat": 4,
 "nbformat_minor": 4
}
