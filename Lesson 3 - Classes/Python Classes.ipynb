{
 "cells": [
  {
   "cell_type": "markdown",
   "metadata": {},
   "source": [
    "### What are classes and why are they needed in Python?\n",
    "\n",
    "The reasons to use classes are:\n",
    "\n",
    "1\\. Organization: A class keeps all data attributes and functionality of an object in your program in one single location. If a change needs to be made to the object it only needs to be done in one place instead of every place the function is called.\n",
    "\n",
    "\n",
    "2\\. Encapsulation: Functionality or data attributes of a class can be hidden from the user. This means the functionality or attributes can only be invoked within the class, and the user can not invoke them from outside the class. The user only needs to know it works, not how it works.\n",
    "\n",
    "\n",
    "3\\. Inheritance: Base-level functionality or attributes can be defined in a top-level class. Then multiple sub-classes can **inherit** from the top-level class and either extend or override functionality and/or attributes. \n",
    "\n",
    "\n",
    "4\\. Reuse: The same advatange functions provided of reusing the same code throughout the program, classes provided that same functionality. It only needs to be defined once and can be reused anywhere in the program.\n",
    "\n",
    "\n",
    "---\n",
    "\n",
    "The example here will be the same car factory from before. This car factory is a new brand called BMY. It sells three different types of cars BMY-A, BMY-B, BMY-C. The car classes being built are not just for describing the car, it has everything the car will need to be operational by the driver. For each of the points above:\n",
    "\n",
    "1\\. Organization: There will be a car class for BMY, BMY-A, BMY-B, and BMY-C.\n",
    "\n",
    "\n",
    "2\\. Encapsulation: Each car class has a speed attribute. However, the end user can not change the speed attribute directly. The only way the user can change the speed is by calling the `accelerate()` or `stop()` function.\n",
    "\n",
    "\n",
    "3\\. Inheritance: The majority of attributes and functionality will be defined in the BMY top-level class. The other three classes will inherit from the top-level BMY class and not have to redefine anything. The bottom-level classes will only have to define attributes or functionality specific to those models, i.e. opening and closing a sunroof.\n",
    "\n",
    "\n",
    "4\\. Reuse: To actually execute the code, having all functionality and attributes packaged in a class will dramatically reduce code rewrite.\n",
    "\n",
    "\n",
    "---"
   ]
  },
  {
   "cell_type": "markdown",
   "metadata": {},
   "source": [
    "## Table of Contents\n",
    "\n",
    "\n",
    "1\\. Syntax for Classes\n",
    "\n",
    "\n",
    "2\\. Defining a Class\n",
    "\n",
    "\n",
    "3\\. Constructor\n",
    "\n",
    "\n",
    "4\\. Instance Variables vs Class Variables\n",
    "    \n",
    "    \n",
    "5\\. Adding and Accessing Class Functions\n",
    "\n",
    "\n",
    "6\\. Private Attributes\n",
    "    \n",
    "    \n",
    "7\\. Private Functions\n",
    "\n",
    "\n",
    "8\\. Encapsulation\n",
    "\n",
    "\n",
    "9\\. Protected Variables/Functions\n",
    "\n",
    "\n",
    "10\\. Inheritance\n",
    "\n",
    "\n",
    "11\\. Overriding Functions\n",
    "\n",
    "\n",
    "12\\. Polymorphism"
   ]
  },
  {
   "cell_type": "markdown",
   "metadata": {},
   "source": [
    "## 1. Syntax for Classes"
   ]
  },
  {
   "cell_type": "markdown",
   "metadata": {},
   "source": [
    "----\n",
    "\n",
    "![title](images/python_class_example2.png)\n",
    "\n",
    "----"
   ]
  },
  {
   "cell_type": "markdown",
   "metadata": {},
   "source": [
    "Notes:\n",
    "* class (lowercase) is the keyword to specify a Class, followed by the class name\n",
    "* `manufacturer` is a variable shared among all instances of Car\n",
    "* `def __init__(self, color, max_speed)` is the constructor of the Car class, used to create new Car instances\n",
    "* `self.color`, `self.max_speed`, and `self.speed` are not shared among Car instances\n",
    "* `self` is a keyword specifying the Car instance being used"
   ]
  },
  {
   "cell_type": "markdown",
   "metadata": {},
   "source": [
    "## 2. Defining a Class"
   ]
  },
  {
   "cell_type": "code",
   "execution_count": 1,
   "metadata": {},
   "outputs": [],
   "source": [
    "class Car:\n",
    "    pass"
   ]
  },
  {
   "cell_type": "code",
   "execution_count": 2,
   "metadata": {},
   "outputs": [],
   "source": [
    "class Car:\n",
    "    speed = 15\n",
    "    color = 'red'"
   ]
  },
  {
   "cell_type": "code",
   "execution_count": 3,
   "metadata": {},
   "outputs": [
    {
     "name": "stdout",
     "output_type": "stream",
     "text": [
      "15\n"
     ]
    }
   ],
   "source": [
    "car1 = Car()\n",
    "\n",
    "print(car1.speed)"
   ]
  },
  {
   "cell_type": "markdown",
   "metadata": {},
   "source": [
    "## 3. Constructor"
   ]
  },
  {
   "cell_type": "code",
   "execution_count": 4,
   "metadata": {},
   "outputs": [],
   "source": [
    "class Car:\n",
    "    def __init__(self, speed, color):  # constructor\n",
    "        self.speed = speed  # instance variable\n",
    "        self.color = color  # instance variable"
   ]
  },
  {
   "cell_type": "code",
   "execution_count": 5,
   "metadata": {},
   "outputs": [
    {
     "name": "stdout",
     "output_type": "stream",
     "text": [
      "car 1 speed:  50\n",
      "car 2 speed:  60\n",
      "\n",
      "car 1 speed:  70\n",
      "car 2 speed:  60\n"
     ]
    }
   ],
   "source": [
    "car1 = Car(speed=50, color='red')\n",
    "car2 = Car(60, 'blue')\n",
    "\n",
    "print('car 1 speed: ', car1.speed)\n",
    "print('car 2 speed: ', car2.speed)\n",
    "\n",
    "car1.speed = 70\n",
    "\n",
    "print()\n",
    "print('car 1 speed: ', car1.speed)\n",
    "print('car 2 speed: ', car2.speed)"
   ]
  },
  {
   "cell_type": "markdown",
   "metadata": {},
   "source": [
    "**Instance variables** are not shared among instances of the class. `car1` set it's speed to 70, but this has no impact on `car2's` speed.\n",
    "\n",
    "The way you know that speed and color are **instance variables** is because both are preceded by `self` in the class defninition. `self` refers to the specific instance of the class."
   ]
  },
  {
   "cell_type": "markdown",
   "metadata": {},
   "source": [
    "## 4. Instance Variables vs Class Variables"
   ]
  },
  {
   "cell_type": "code",
   "execution_count": 6,
   "metadata": {},
   "outputs": [],
   "source": [
    "class Car:\n",
    "    car_count = 0\n",
    "    \n",
    "    def __init__(self, speed, color):  # constructor\n",
    "        self.speed = speed  # instance variable\n",
    "        self.color = color  # instance variable\n",
    "        Car.car_count += 1  # no `self`, uses name of the class"
   ]
  },
  {
   "cell_type": "code",
   "execution_count": 7,
   "metadata": {},
   "outputs": [
    {
     "name": "stdout",
     "output_type": "stream",
     "text": [
      "Before modifications\n",
      "---------------------\n",
      "car1 speed:  50\n",
      "car2 speed:  60\n",
      "\n",
      "car1 car_count:  2\n",
      "car2 car_count:  2\n"
     ]
    }
   ],
   "source": [
    "car1 = Car(speed=50, color='red')\n",
    "car2 = Car(60, 'blue')\n",
    "\n",
    "print('Before modifications')\n",
    "print('---------------------')\n",
    "print('car1 speed: ', car1.speed)\n",
    "print('car2 speed: ', car2.speed)\n",
    "\n",
    "print()\n",
    "print('car1 car_count: ', car1.car_count)\n",
    "print('car2 car_count: ', car2.car_count)"
   ]
  },
  {
   "cell_type": "code",
   "execution_count": 8,
   "metadata": {},
   "outputs": [
    {
     "name": "stdout",
     "output_type": "stream",
     "text": [
      "\n",
      "\n",
      "After modifications\n",
      "---------------------\n",
      "car1 speed:  100\n",
      "car2 speed:  60\n",
      "\n",
      "car1 car_count:  3\n",
      "car2 car_count:  2\n"
     ]
    }
   ],
   "source": [
    "# modifications #\n",
    "car1.speed = 100\n",
    "car1.car_count += 1\n",
    "\n",
    "print('\\n\\nAfter modifications')\n",
    "print('---------------------')\n",
    "print('car1 speed: ', car1.speed)\n",
    "print('car2 speed: ', car2.speed)\n",
    "\n",
    "print()\n",
    "print('car1 car_count: ', car1.car_count)\n",
    "print('car2 car_count: ', car2.car_count)"
   ]
  },
  {
   "cell_type": "code",
   "execution_count": 9,
   "metadata": {},
   "outputs": [
    {
     "name": "stdout",
     "output_type": "stream",
     "text": [
      "\n",
      "\n",
      "After adding new car\n",
      "---------------------\n",
      "car1 car_count:  3\n",
      "car2 car_count:  3\n",
      "car2 car_count:  3\n"
     ]
    }
   ],
   "source": [
    "# adding new car to reset car_count for all cars #\n",
    "car3 = Car(70, 'green')\n",
    "\n",
    "print('\\n\\nAfter adding new car')\n",
    "print('---------------------')\n",
    "print('car1 car_count: ', car1.car_count)\n",
    "print('car2 car_count: ', car2.car_count)\n",
    "print('car2 car_count: ', car3.car_count)"
   ]
  },
  {
   "cell_type": "markdown",
   "metadata": {},
   "source": [
    "The `car_count` variable is shared among the class instances. It is updated each time the **constructor** is called.\n",
    "\n",
    "However, if one class instance modifies the `car_count` variable, then it is only modified for the one class.\n",
    "\n",
    "But, once a new car is created again, here `car3`, the `car_count` variable is updated from the shared value so now all cars have the same value once again."
   ]
  },
  {
   "cell_type": "markdown",
   "metadata": {},
   "source": [
    "## 5. Adding and Accessing Class Functions"
   ]
  },
  {
   "cell_type": "code",
   "execution_count": 10,
   "metadata": {},
   "outputs": [],
   "source": [
    "class Car:\n",
    "    car_count = 0\n",
    "    \n",
    "    def __init__(self, speed, color):  # constructor\n",
    "        self.speed = speed  # instance variable\n",
    "        self.color = color  # instance variable\n",
    "        Car.car_count += 1  # no `self`, uses name of the class\n",
    "    \n",
    "    def accelerate(self):  # `self` keyword\n",
    "        self.speed += 5\n",
    "    \n",
    "    def stop(self):  # `self` keyword\n",
    "        self.speed -= 5"
   ]
  },
  {
   "cell_type": "code",
   "execution_count": 11,
   "metadata": {},
   "outputs": [
    {
     "name": "stdout",
     "output_type": "stream",
     "text": [
      "Before modifications\n",
      "---------------------\n",
      "car1 speed:  50\n",
      "car2 speed:  60\n",
      "\n",
      "car1 car_count:  55\n",
      "car2 car_count:  50\n"
     ]
    }
   ],
   "source": [
    "car1 = Car(speed=50, color='red')\n",
    "car2 = Car(60, 'blue')\n",
    "\n",
    "print('Before modifications')\n",
    "print('---------------------')\n",
    "print('car1 speed: ', car1.speed)\n",
    "print('car2 speed: ', car2.speed)\n",
    "\n",
    "car1.accelerate()\n",
    "car2.stop()\n",
    "car2.stop()\n",
    "\n",
    "print()\n",
    "print('car1 car_count: ', car1.speed)\n",
    "print('car2 car_count: ', car2.speed)"
   ]
  },
  {
   "cell_type": "markdown",
   "metadata": {},
   "source": [
    "## 6. Private Attributes\n",
    "\n",
    "- Private attributes/functions are denoted as such by two underscores in front of the variable/function name\n",
    "- Public attributes/functions don't have any leading underscores"
   ]
  },
  {
   "cell_type": "code",
   "execution_count": 12,
   "metadata": {},
   "outputs": [],
   "source": [
    "class Car:\n",
    "    car_count = 0\n",
    "    \n",
    "    def __init__(self, speed, color):\n",
    "        self.__speed = speed  # private variable\n",
    "        self.color = color  # public variable\n",
    "        Car.car_count += 1\n",
    "    \n",
    "    def accelerate(self):\n",
    "        self.__speed += 5\n",
    "    \n",
    "    def get_speed(self):  # --> **very uncommon**, only used for illustration\n",
    "        return self.__speed"
   ]
  },
  {
   "cell_type": "code",
   "execution_count": 13,
   "metadata": {},
   "outputs": [
    {
     "ename": "AttributeError",
     "evalue": "'Car' object has no attribute '__speed'",
     "output_type": "error",
     "traceback": [
      "\u001b[1;31m---------------------------------------------------------------------------\u001b[0m",
      "\u001b[1;31mAttributeError\u001b[0m                            Traceback (most recent call last)",
      "\u001b[1;32m<ipython-input-13-4400195aba80>\u001b[0m in \u001b[0;36m<module>\u001b[1;34m\u001b[0m\n\u001b[0;32m      2\u001b[0m \u001b[1;33m\u001b[0m\u001b[0m\n\u001b[0;32m      3\u001b[0m \u001b[0mcar1\u001b[0m \u001b[1;33m=\u001b[0m \u001b[0mCar\u001b[0m\u001b[1;33m(\u001b[0m\u001b[0mspeed\u001b[0m\u001b[1;33m=\u001b[0m\u001b[1;36m50\u001b[0m\u001b[1;33m,\u001b[0m \u001b[0mcolor\u001b[0m\u001b[1;33m=\u001b[0m\u001b[1;34m'red'\u001b[0m\u001b[1;33m)\u001b[0m\u001b[1;33m\u001b[0m\u001b[1;33m\u001b[0m\u001b[0m\n\u001b[1;32m----> 4\u001b[1;33m \u001b[0mprint\u001b[0m\u001b[1;33m(\u001b[0m\u001b[1;34m'car1 speed: '\u001b[0m\u001b[1;33m,\u001b[0m \u001b[0mcar1\u001b[0m\u001b[1;33m.\u001b[0m\u001b[0m__speed\u001b[0m\u001b[1;33m)\u001b[0m\u001b[1;33m\u001b[0m\u001b[1;33m\u001b[0m\u001b[0m\n\u001b[0m",
      "\u001b[1;31mAttributeError\u001b[0m: 'Car' object has no attribute '__speed'"
     ]
    }
   ],
   "source": [
    "# Failure #\n",
    "\n",
    "car1 = Car(speed=50, color='red')\n",
    "print('car1 speed: ', car1.__speed)"
   ]
  },
  {
   "cell_type": "markdown",
   "metadata": {},
   "source": [
    "`self.__speed` is a **private** class variable that can only be accessed from within the `Car` class."
   ]
  },
  {
   "cell_type": "code",
   "execution_count": 14,
   "metadata": {},
   "outputs": [
    {
     "name": "stdout",
     "output_type": "stream",
     "text": [
      "car1 speed:  50\n"
     ]
    }
   ],
   "source": [
    "# Solution #\n",
    "\n",
    "car1 = Car(speed=50, color='red')\n",
    "print('car1 speed: ', car1.get_speed())"
   ]
  },
  {
   "cell_type": "markdown",
   "metadata": {},
   "source": [
    "The solution is to instead use a public function in the `Car` class `get_speed()` which returns the private variable `self.__speed` value."
   ]
  },
  {
   "cell_type": "markdown",
   "metadata": {},
   "source": [
    "## 7. Private Functions"
   ]
  },
  {
   "cell_type": "code",
   "execution_count": 15,
   "metadata": {},
   "outputs": [],
   "source": [
    "class Car:\n",
    "    car_count = 0\n",
    "    \n",
    "    def __init__(self, speed, color):\n",
    "        self.__speed = speed\n",
    "        self.color = color\n",
    "        Car.car_count += 1\n",
    "    \n",
    "    def accelerate(self):\n",
    "        self.__speed += 5\n",
    "    \n",
    "    def get_speed(self):  # --> **very uncommon**, only used for illustration\n",
    "        return self.__speed\n",
    "    \n",
    "    def __stop(self):  # private function\n",
    "        self.__speed -= 5\n",
    "        \n",
    "    def stop_public(self):\n",
    "        self.__stop()"
   ]
  },
  {
   "cell_type": "code",
   "execution_count": 16,
   "metadata": {},
   "outputs": [
    {
     "ename": "AttributeError",
     "evalue": "'Car' object has no attribute 'stop'",
     "output_type": "error",
     "traceback": [
      "\u001b[1;31m---------------------------------------------------------------------------\u001b[0m",
      "\u001b[1;31mAttributeError\u001b[0m                            Traceback (most recent call last)",
      "\u001b[1;32m<ipython-input-16-38cf1cbf11f4>\u001b[0m in \u001b[0;36m<module>\u001b[1;34m\u001b[0m\n\u001b[0;32m      2\u001b[0m \u001b[1;33m\u001b[0m\u001b[0m\n\u001b[0;32m      3\u001b[0m \u001b[0mcar1\u001b[0m \u001b[1;33m=\u001b[0m \u001b[0mCar\u001b[0m\u001b[1;33m(\u001b[0m\u001b[0mspeed\u001b[0m\u001b[1;33m=\u001b[0m\u001b[1;36m50\u001b[0m\u001b[1;33m,\u001b[0m \u001b[0mcolor\u001b[0m\u001b[1;33m=\u001b[0m\u001b[1;34m'red'\u001b[0m\u001b[1;33m)\u001b[0m\u001b[1;33m\u001b[0m\u001b[1;33m\u001b[0m\u001b[0m\n\u001b[1;32m----> 4\u001b[1;33m \u001b[0mcar1\u001b[0m\u001b[1;33m.\u001b[0m\u001b[0mstop\u001b[0m\u001b[1;33m(\u001b[0m\u001b[1;33m)\u001b[0m\u001b[1;33m\u001b[0m\u001b[1;33m\u001b[0m\u001b[0m\n\u001b[0m\u001b[0;32m      5\u001b[0m \u001b[0mprint\u001b[0m\u001b[1;33m(\u001b[0m\u001b[1;34m'car1 speed: '\u001b[0m\u001b[1;33m,\u001b[0m \u001b[0mcar1\u001b[0m\u001b[1;33m.\u001b[0m\u001b[0mget_speed\u001b[0m\u001b[1;33m(\u001b[0m\u001b[1;33m)\u001b[0m\u001b[1;33m)\u001b[0m\u001b[1;33m\u001b[0m\u001b[1;33m\u001b[0m\u001b[0m\n",
      "\u001b[1;31mAttributeError\u001b[0m: 'Car' object has no attribute 'stop'"
     ]
    }
   ],
   "source": [
    "# Failure #\n",
    "\n",
    "car1 = Car(speed=50, color='red')\n",
    "car1.stop()\n",
    "print('car1 speed: ', car1.get_speed())"
   ]
  },
  {
   "cell_type": "code",
   "execution_count": 17,
   "metadata": {},
   "outputs": [
    {
     "ename": "AttributeError",
     "evalue": "'Car' object has no attribute '__stop'",
     "output_type": "error",
     "traceback": [
      "\u001b[1;31m---------------------------------------------------------------------------\u001b[0m",
      "\u001b[1;31mAttributeError\u001b[0m                            Traceback (most recent call last)",
      "\u001b[1;32m<ipython-input-17-e7acf5f6e9ff>\u001b[0m in \u001b[0;36m<module>\u001b[1;34m\u001b[0m\n\u001b[0;32m      2\u001b[0m \u001b[1;33m\u001b[0m\u001b[0m\n\u001b[0;32m      3\u001b[0m \u001b[0mcar1\u001b[0m \u001b[1;33m=\u001b[0m \u001b[0mCar\u001b[0m\u001b[1;33m(\u001b[0m\u001b[0mspeed\u001b[0m\u001b[1;33m=\u001b[0m\u001b[1;36m50\u001b[0m\u001b[1;33m,\u001b[0m \u001b[0mcolor\u001b[0m\u001b[1;33m=\u001b[0m\u001b[1;34m'red'\u001b[0m\u001b[1;33m)\u001b[0m\u001b[1;33m\u001b[0m\u001b[1;33m\u001b[0m\u001b[0m\n\u001b[1;32m----> 4\u001b[1;33m \u001b[0mcar1\u001b[0m\u001b[1;33m.\u001b[0m\u001b[0m__stop\u001b[0m\u001b[1;33m(\u001b[0m\u001b[1;33m)\u001b[0m\u001b[1;33m\u001b[0m\u001b[1;33m\u001b[0m\u001b[0m\n\u001b[0m\u001b[0;32m      5\u001b[0m \u001b[0mprint\u001b[0m\u001b[1;33m(\u001b[0m\u001b[1;34m'car1 speed: '\u001b[0m\u001b[1;33m,\u001b[0m \u001b[0mcar1\u001b[0m\u001b[1;33m.\u001b[0m\u001b[0mget_speed\u001b[0m\u001b[1;33m(\u001b[0m\u001b[1;33m)\u001b[0m\u001b[1;33m)\u001b[0m\u001b[1;33m\u001b[0m\u001b[1;33m\u001b[0m\u001b[0m\n",
      "\u001b[1;31mAttributeError\u001b[0m: 'Car' object has no attribute '__stop'"
     ]
    }
   ],
   "source": [
    "# Failure #\n",
    "\n",
    "car1 = Car(speed=50, color='red')\n",
    "car1.__stop()\n",
    "print('car1 speed: ', car1.get_speed())"
   ]
  },
  {
   "cell_type": "markdown",
   "metadata": {},
   "source": [
    "The `__stop()` function is a private function, meaning it can't be accessed outside of the `Car` class by calling either `stop()` or `__stop()`."
   ]
  },
  {
   "cell_type": "code",
   "execution_count": 18,
   "metadata": {},
   "outputs": [
    {
     "name": "stdout",
     "output_type": "stream",
     "text": [
      "car1 speed:  45\n"
     ]
    }
   ],
   "source": [
    "# Solution #\n",
    "\n",
    "car1 = Car(speed=50, color='red')\n",
    "car1.stop_public()\n",
    "print('car1 speed: ', car1.get_speed())"
   ]
  },
  {
   "cell_type": "markdown",
   "metadata": {},
   "source": [
    "The solution is to call a public function `stop_public()` which calls the **private** function `__stop()` in its function definition."
   ]
  },
  {
   "cell_type": "markdown",
   "metadata": {},
   "source": [
    "## 8. Encapsulation\n",
    "\n",
    "Private attributes/functions are only meant to be called from within the class. The reason is to either protect/prevent direct access to the data. This is what **encapsulation** is.\n",
    "\n",
    "Here is a real-example of why you would want to use encapsulation in the `Car` class."
   ]
  },
  {
   "cell_type": "code",
   "execution_count": 19,
   "metadata": {},
   "outputs": [],
   "source": [
    "class Car:\n",
    "    car_count = 0\n",
    "    max_speed = 200\n",
    "    \n",
    "    def __init__(self, speed, color):\n",
    "        self.__speed = speed\n",
    "        self.color = color\n",
    "        Car.car_count += 1\n",
    "    \n",
    "    def accelerate(self):\n",
    "        if self.__speed < Car.max_speed - 5:\n",
    "            self.__speed += 5\n",
    "        elif self.__speed < Car.max_speed:\n",
    "            self.__speed = Car.max_speed\n",
    "        else:\n",
    "            print(f'Can\\'t exceed max speed of: {Car.max_speed}.')\n",
    "    \n",
    "    def get_speed(self):  # --> **very uncommon**, only used for illustration\n",
    "        return self.__speed "
   ]
  },
  {
   "cell_type": "code",
   "execution_count": 20,
   "metadata": {},
   "outputs": [
    {
     "name": "stdout",
     "output_type": "stream",
     "text": [
      "car1 speed:  200\n",
      "Can't exceed max speed of: 200.\n",
      "car1 speed:  200\n"
     ]
    }
   ],
   "source": [
    "car1 = Car(speed=197, color='red')\n",
    "car1.accelerate()\n",
    "print('car1 speed: ', car1.get_speed())\n",
    "car1.accelerate()\n",
    "print('car1 speed: ', car1.get_speed())"
   ]
  },
  {
   "cell_type": "markdown",
   "metadata": {},
   "source": [
    "## 9. Protected Variables/Functions\n",
    "\n",
    "Protected variables/functions play right into **inheritance**, which will be covered next. \n",
    "\n",
    "Protected variables/functions are denoted by a single underscore (private was two underscores) in front of the name. This is a **convention** for only the parent class **and** child classes to access the variable. I emphasize convention because there won't be an error if you try to access the variable outside the class/child class."
   ]
  },
  {
   "cell_type": "code",
   "execution_count": 21,
   "metadata": {},
   "outputs": [],
   "source": [
    "class CarModelA:\n",
    "    car_count = 0\n",
    "    max_speed = 200\n",
    "    \n",
    "    def __init__(self, speed, color):\n",
    "        self._speed = speed  # **protected** variable\n",
    "        self.color = color  # public variable\n",
    "        CarModelA.car_count += 1\n",
    "        \n",
    "    def get_speed(self):  # --> **very uncommon**, only used for illustration\n",
    "        return self._speed"
   ]
  },
  {
   "cell_type": "code",
   "execution_count": 22,
   "metadata": {},
   "outputs": [
    {
     "name": "stdout",
     "output_type": "stream",
     "text": [
      "car_a speed:  100\n",
      "car_a speed:  100\n"
     ]
    }
   ],
   "source": [
    "car_a = CarModelA(speed=100, color='red')\n",
    "\n",
    "print('car_a speed: ', car_a.get_speed())\n",
    "print('car_a speed: ', car_a._speed)  # BAD programming, shouldn't access this way"
   ]
  },
  {
   "cell_type": "markdown",
   "metadata": {},
   "source": [
    "The `car_a` instance is also able to directly access the `_speed` variable becuase it's **protected**. When the `_speed` variable was private, this gave an error."
   ]
  },
  {
   "cell_type": "markdown",
   "metadata": {},
   "source": [
    "## 10. Inheritance"
   ]
  },
  {
   "cell_type": "markdown",
   "metadata": {},
   "source": [
    "----\n",
    "\n",
    "![title](images/python_inheritance_example.png)\n",
    "\n",
    "----"
   ]
  },
  {
   "cell_type": "code",
   "execution_count": 23,
   "metadata": {},
   "outputs": [],
   "source": [
    "class Car:  # parent class\n",
    "    car_count = 0\n",
    "    max_speed = 200\n",
    "    \n",
    "    def __init__(self, speed, color):\n",
    "        self._speed = speed  # **protected** variable\n",
    "        self.color = color  # public variable\n",
    "        Car.car_count += 1\n",
    "    \n",
    "    def accelerate(self):\n",
    "        if self._speed < Car.max_speed - 5:\n",
    "            self._speed += 5\n",
    "        elif self._speed < Car.max_speed:\n",
    "            self._speed += 5\n",
    "        else:\n",
    "            print(f'Can\\'t exceed max speed of: {Car.max_speed}.')\n",
    "            \n",
    "    def get_speed(self):  # --> **very uncommon**, only used for illustration\n",
    "        return self._speed"
   ]
  },
  {
   "cell_type": "code",
   "execution_count": 24,
   "metadata": {},
   "outputs": [],
   "source": [
    "class CarModelA(Car):  # child class\n",
    "    def __init__(self, speed, color, num_tires):\n",
    "        Car.__init__(self, speed, color)\n",
    "        self.num_tires = num_tires"
   ]
  },
  {
   "cell_type": "code",
   "execution_count": 25,
   "metadata": {},
   "outputs": [
    {
     "name": "stdout",
     "output_type": "stream",
     "text": [
      "car_a speed:  100\n",
      "car_a speed:  100\n"
     ]
    }
   ],
   "source": [
    "car_a = CarModelA(speed=100, color='red', num_tires=14)\n",
    "\n",
    "print('car_a speed: ', car_a.get_speed())\n",
    "print('car_a speed: ', car_a._speed)"
   ]
  },
  {
   "cell_type": "markdown",
   "metadata": {},
   "source": [
    "There is no `get_speed()` function for the `CarModelA` class. However, called `car_a.get_speed())` doesn't give any errors, because `car_a` inherits all functionality of the `Car` class."
   ]
  },
  {
   "cell_type": "markdown",
   "metadata": {},
   "source": [
    "## 11. Overriding Functions\n",
    "\n",
    "Overriding functions means redefining functions from the parent class in the child class either adding new functionality or overwriting all of the functionality of the base class."
   ]
  },
  {
   "cell_type": "code",
   "execution_count": 26,
   "metadata": {},
   "outputs": [],
   "source": [
    "class Car:\n",
    "    car_count = 0\n",
    "    max_speed = 200\n",
    "    \n",
    "    def __init__(self, speed, color):\n",
    "        self._speed = speed  # **protected** variable\n",
    "        self.color = color  # public variable\n",
    "        Car.car_count += 1\n",
    "    \n",
    "    def accelerate(self):\n",
    "        if self._speed < Car.max_speed - 5:\n",
    "            self._speed += 5\n",
    "        elif self._speed < Car.max_speed:\n",
    "            self._speed += 5\n",
    "        else:\n",
    "            print(f'Can\\'t exceed max speed of: {Car.max_speed}.')\n",
    "            \n",
    "    def get_speed(self):  # --> **very uncommon**, only used for illustration\n",
    "        return self._speed\n",
    "    \n",
    "    def print_specs(self):\n",
    "        print(f'The car\\'s speed is {self._speed} and it\\'s color is {self.color}')"
   ]
  },
  {
   "cell_type": "code",
   "execution_count": 27,
   "metadata": {},
   "outputs": [],
   "source": [
    "class CarModelA(Car):\n",
    "    def __init__(self, speed, color):\n",
    "        Car.__init__(self, speed, color)\n",
    "        \n",
    "    def print_specs(self):\n",
    "        super().print_specs()  # makes a call to the parent class Car's function `print_specs`\n",
    "        print('This is a model A car.')\n",
    "        \n",
    "    def accelerate(self):\n",
    "        if self._speed < Car.max_speed - 5:\n",
    "            self._speed += 5\n",
    "        elif self._speed < Car.max_speed:\n",
    "            print(f'You\\'re dangerously close to the max speed of {Car.max_speed}')\n",
    "            self._speed += 5\n",
    "        else:\n",
    "            print(f'Can\\'t exceed max speed of: {Car.max_speed}.')\n",
    "        \n",
    "car_a = CarModelA(speed=196, color='red')"
   ]
  },
  {
   "cell_type": "code",
   "execution_count": 28,
   "metadata": {},
   "outputs": [
    {
     "name": "stdout",
     "output_type": "stream",
     "text": [
      "The car's speed is 196 and it's color is red\n",
      "This is a model A car.\n"
     ]
    }
   ],
   "source": [
    "car_a.print_specs()"
   ]
  },
  {
   "cell_type": "markdown",
   "metadata": {},
   "source": [
    "In the `print_specs` function in the `CarModelA` class, the function's first line is `super().print_specs()`. This calls the parent `Car` class function `print_specs()`, evaluates, then continues in the `CarModelA` `print_specs()` function. So both function print statements are printed."
   ]
  },
  {
   "cell_type": "code",
   "execution_count": 29,
   "metadata": {},
   "outputs": [
    {
     "name": "stdout",
     "output_type": "stream",
     "text": [
      "You're dangerously close to the max speed of 200\n"
     ]
    }
   ],
   "source": [
    "car_a.accelerate()"
   ]
  },
  {
   "cell_type": "markdown",
   "metadata": {},
   "source": [
    "The function `accelerate()` was completely overwritten in the child class `CarModelA` to have different functionality. The only functionality added was an additional print statement, but the entire functionality was overwritten because the function definition was rewritten."
   ]
  },
  {
   "cell_type": "markdown",
   "metadata": {},
   "source": [
    "## 12. Polymorphism\n",
    "\n",
    "Polymorphism allows a single interface to multiple different types. \n",
    "\n",
    "More simply, multiple classes can be treated the same even though the underlying functionality is different because they share a common interface."
   ]
  },
  {
   "cell_type": "code",
   "execution_count": 30,
   "metadata": {},
   "outputs": [],
   "source": [
    "class Car:\n",
    "    def __init__(self, color):\n",
    "        self._color = color\n",
    "    \n",
    "    def get_color(self):  # --> **very uncommon**, only used for illustration\n",
    "        return f'The car\\'s color is: {self._color}'\n",
    "    \n",
    "class CarModelA(Car):\n",
    "    def __init__(self, color):\n",
    "        Car.__init__(self, color)\n",
    "    \n",
    "    def get_color(self):  # --> **very uncommon**, only used for illustration\n",
    "        return f'The car model A\\'s color is: {self._color}'\n",
    "    \n",
    "class CarModelB(Car):\n",
    "    def __init__(self, color):\n",
    "        Car.__init__(self, color)\n",
    "    \n",
    "    def get_color(self):  # --> **very uncommon**, only used for illustration\n",
    "        return f'The car model B\\'s color is: {self._color}'"
   ]
  },
  {
   "cell_type": "code",
   "execution_count": 31,
   "metadata": {},
   "outputs": [
    {
     "name": "stdout",
     "output_type": "stream",
     "text": [
      "The car model A's color is: red\n",
      "The car model A's color is: green\n",
      "The car model A's color is: yellow\n",
      "The car model B's color is: blue\n",
      "The car model B's color is: white\n",
      "The car model B's color is: black\n"
     ]
    }
   ],
   "source": [
    "car_list = [\n",
    "    CarModelA('red'),\n",
    "    CarModelA('green'),\n",
    "    CarModelA('yellow'),\n",
    "    CarModelB('blue'),\n",
    "    CarModelB('white'),\n",
    "    CarModelB('black')\n",
    "]\n",
    "\n",
    "for car in car_list:\n",
    "    print(car.get_color())"
   ]
  }
 ],
 "metadata": {
  "kernelspec": {
   "display_name": "Python 3",
   "language": "python",
   "name": "python3"
  },
  "language_info": {
   "codemirror_mode": {
    "name": "ipython",
    "version": 3
   },
   "file_extension": ".py",
   "mimetype": "text/x-python",
   "name": "python",
   "nbconvert_exporter": "python",
   "pygments_lexer": "ipython3",
   "version": "3.7.4"
  }
 },
 "nbformat": 4,
 "nbformat_minor": 4
}
