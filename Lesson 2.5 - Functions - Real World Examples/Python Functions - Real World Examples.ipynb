{
 "cells": [
  {
   "cell_type": "markdown",
   "metadata": {},
   "source": [
    "### Why care about this video?\n",
    "\n",
    "To many tutorials stop at showing you basic examples of how to do things.\n",
    "\n",
    "These types of tutorials are great at getting you from Level 0 to Level 1, but for you to get from Level 1 to Level 5 you have a very hard time figuring that out unless you're reading a textbook or in a classroom.\n",
    "\n",
    "The point of this video is to provide a bridge between Level 1 to Level 5, even if this doesn't get you all the way to Level 5.\n",
    "\n",
    "This video will cover advanced concepts that you won't find in someone's code unless they're more seasoned, but it's good to see things and know that these are the standards that you should be building towards. This video will also cover simpler concepts such as:\n",
    "\n",
    "* function structure\n",
    "* proper docstrings\n",
    "* informative function and variable names\n",
    "\n",
    "---"
   ]
  },
  {
   "cell_type": "markdown",
   "metadata": {},
   "source": [
    "## Table of Contents\n",
    "1. `is_prime()`\n",
    "\n",
    "\n",
    "2. `get_top_n_customers()`\n",
    "    \n",
    "    \n",
    "3. `merge_sort_lists()`\n",
    "        \n",
    "    \n",
    "4. `print_customers()`\n",
    "    \n",
    "    \n",
    "5. `get_html_from_url()`"
   ]
  },
  {
   "cell_type": "markdown",
   "metadata": {},
   "source": [
    "## 1. `is_prime()`"
   ]
  },
  {
   "cell_type": "code",
   "execution_count": 1,
   "metadata": {},
   "outputs": [
    {
     "name": "stdout",
     "output_type": "stream",
     "text": [
      "99 is prime: False\n",
      "7 is prime: True\n"
     ]
    }
   ],
   "source": [
    "def is_prime(num: int) -> bool:\n",
    "    '''\n",
    "    Returns\n",
    "    --------\n",
    "    bool: True if prime\n",
    "    '''\n",
    "    if num < 1:  # check bad user input\n",
    "        return False\n",
    "\n",
    "    for i in range(2, num//2 + 1):\n",
    "        if (num % i) == 0:\n",
    "            return False\n",
    "        \n",
    "    return True\n",
    "\n",
    "\n",
    "x1 = 99\n",
    "x2 = 7\n",
    "\n",
    "print(f'{x1} is prime: {is_prime(x1)}')\n",
    "print(f'{x2} is prime: {is_prime(x2)}')"
   ]
  },
  {
   "cell_type": "markdown",
   "metadata": {},
   "source": [
    "## 2. `get_top_n_customers()`"
   ]
  },
  {
   "cell_type": "code",
   "execution_count": 2,
   "metadata": {},
   "outputs": [
    {
     "name": "stdout",
     "output_type": "stream",
     "text": [
      "Top 5 customers: ['Jon Jones', 'Tony Ferguson', 'Jose Aldo', 'Johnny Bravo', 'Eddie Bravo']\n",
      "Top 3 customers: ['Jon Jones', 'Tony Ferguson', 'Jose Aldo']\n",
      "Top -3 customers: ['Error -> number of customers must be greater than 0.']\n"
     ]
    }
   ],
   "source": [
    "def get_top_n_customers(customer_buys_dic: dict, n: int = 5) -> list:\n",
    "    '''\n",
    "    Input\n",
    "    --------\n",
    "    customer_buys_dic: dict of {customer_name: amount_purchased}\n",
    "    n: top number of customers to find\n",
    "    \n",
    "    Returns\n",
    "    --------\n",
    "    top_customer_lst: lst of customer names\n",
    "    '''\n",
    "    if n < 1:\n",
    "        return ['Error -> number of customers must be greater than 0.']\n",
    "    \n",
    "    cnt = 0\n",
    "    top_customer_lst = []\n",
    "    \n",
    "    # don't be overly concerned with how this works for now\n",
    "    # lambda is something will cover later\n",
    "    for k,v in sorted(customer_buys_dic.items(), \n",
    "                      key = lambda x: x[1], reverse=True):\n",
    "        if cnt == n:\n",
    "            break\n",
    "        else:\n",
    "            top_customer_lst.append(k)\n",
    "        \n",
    "        cnt += 1\n",
    "    \n",
    "    return top_customer_lst\n",
    "    \n",
    "    \n",
    "customer_buys_dic = {\n",
    "    'Johnny Bravo': 10234, \n",
    "    'Eddie Alvarez': 99, \n",
    "    'Jon Jones': 999999, \n",
    "    'Eddie Bravo': 4334,\n",
    "    'Jose Aldo': 22341,\n",
    "    'Tony Ferguson': 111223\n",
    "}\n",
    "\n",
    "n1 = 3\n",
    "n2 = -3\n",
    "\n",
    "print(f'Top 5 customers: {get_top_n_customers(customer_buys_dic)}')\n",
    "print(f'Top {n1} customers: {get_top_n_customers(customer_buys_dic, n1)}')\n",
    "print(f'Top {n2} customers: {get_top_n_customers(customer_buys_dic, n2)}')"
   ]
  },
  {
   "cell_type": "markdown",
   "metadata": {},
   "source": [
    "## 3. `merge_sort_lists()`"
   ]
  },
  {
   "cell_type": "code",
   "execution_count": 3,
   "metadata": {},
   "outputs": [
    {
     "name": "stdout",
     "output_type": "stream",
     "text": [
      "['Absolute Zero', 'Aero', 'Alabaster', 'Brick Red', 'Hot Pink', 'Indigo', 'Orange Hue', 'Pink', 'Red', 'Sea Green', 'Violet', 'Yellow']\n",
      "['Error -> All data types must be the same in all lists.']\n"
     ]
    }
   ],
   "source": [
    "def merge_sort_lists(*args) -> list:\n",
    "    '''\n",
    "    Merges every list, sorts, and returns it.\n",
    "    \n",
    "    Inputs\n",
    "    --------\n",
    "    *args: list of str lists\n",
    "    \n",
    "    Returns\n",
    "    --------\n",
    "    final_lst: sorted combination of input lists\n",
    "    '''\n",
    "    \n",
    "    final_lst = []\n",
    "    for lst in args:\n",
    "        final_lst += lst\n",
    "    \n",
    "    lst_type = type(final_lst[0])\n",
    "    if all([type(x) == lst_type for x in final_lst]):\n",
    "        return sorted(final_lst)\n",
    "    else:\n",
    "        return ['Error -> All data types must be the same in all lists.']\n",
    "\n",
    "\n",
    "lst1 = ['Absolute Zero', 'Aero', 'Violet', 'Alabaster']\n",
    "lst2 = ['Red', 'Indigo', 'Sea Green', 'Orange Hue']\n",
    "lst3 = ['Hot Pink', 'Pink', 'Yellow', 'Brick Red']\n",
    "lst4 = ['Hot Pink', 'Pink', 'Yellow', 5]\n",
    "print(merge_sort_lists(lst1, lst2, lst3))\n",
    "print(merge_sort_lists(lst1, lst2, lst4))"
   ]
  },
  {
   "cell_type": "markdown",
   "metadata": {},
   "source": [
    "## 4. `print_customers()`"
   ]
  },
  {
   "cell_type": "code",
   "execution_count": 4,
   "metadata": {
    "scrolled": true
   },
   "outputs": [
    {
     "name": "stdout",
     "output_type": "stream",
     "text": [
      "First\tLast\n",
      "----\t----\n",
      "Jon\tJones\n",
      "Tony\tFerguson\n",
      "Jose\tAldo\n",
      "Johnny\tBravo\n",
      "Eddie\tBravo\n",
      "Eddie\tAlvarez\n",
      "\n",
      "All customer names must be formatted: first_name last_name\n"
     ]
    }
   ],
   "source": [
    "def print_customers(customer_lst: list) -> None:\n",
    "    '''\n",
    "    Prints customer names separated into first and last name.\n",
    "    \n",
    "    Input\n",
    "    --------\n",
    "    customer_lst: str list of customer names\n",
    "    '''\n",
    "    customer_lst = [x.split() for x in customer_lst]\n",
    "    \n",
    "    if not all([len(x) == 2 for x in customer_lst]):\n",
    "        print('All customer names must be formatted: first_name last_name')\n",
    "        return\n",
    "    \n",
    "    print('First\\tLast')\n",
    "    print('----\\t----')\n",
    "    \n",
    "    for customer_name in customer_lst:\n",
    "        first_name, last_name = customer_name\n",
    "        print(f'{first_name}\\t{last_name}')\n",
    "    \n",
    "    \n",
    "customer_lst_1 = ['Jon Jones', 'Tony Ferguson', 'Jose Aldo', 'Johnny Bravo', 'Eddie Bravo', 'Eddie Alvarez']\n",
    "customer_lst_2 = ['JonJones', 'Tony Ferguson']\n",
    "\n",
    "print_customers(customer_lst_1)\n",
    "print()\n",
    "print_customers(customer_lst_2)"
   ]
  },
  {
   "cell_type": "markdown",
   "metadata": {},
   "source": [
    "## 5. `get_html_from_url()`"
   ]
  },
  {
   "cell_type": "code",
   "execution_count": 5,
   "metadata": {},
   "outputs": [
    {
     "name": "stdout",
     "output_type": "stream",
     "text": [
      "Invalid HTML status code 404\n",
      "\n",
      "<!DOCTYPE html>\n",
      "<html lang=\"en\">\n",
      "  <head>\n",
      "    <met\n"
     ]
    }
   ],
   "source": [
    "import requests\n",
    "\n",
    "def get_html_from_url(url: str) -> str:\n",
    "    '''\n",
    "    Gets HTML from url, or prints error and returns nothing.\n",
    "    \n",
    "    Input\n",
    "    -------\n",
    "    url\n",
    "    \n",
    "    Returns\n",
    "    --------\n",
    "    HTML text or None (if error)\n",
    "    '''\n",
    "    try:\n",
    "        r = requests.get(url,timeout=3)\n",
    "        \n",
    "        if r.status_code == 200:\n",
    "            return r.text\n",
    "        else:\n",
    "            print(f'Invalid HTML status code {r.status_code}')\n",
    "    except requests.exceptions.HTTPError as e:\n",
    "        print (f'Http Error: {e}')\n",
    "    except requests.exceptions.ConnectionError as e:\n",
    "        print (f'Error Connecting: {e}')\n",
    "    except requests.exceptions.Timeout as e:\n",
    "        print (f'Timeout Error: {e}')\n",
    "    except requests.exceptions.RequestException as e:\n",
    "        print (f'Url error: {e}')\n",
    "\n",
    "html = get_html_from_url('http://ww.github.com')\n",
    "print()\n",
    "html = get_html_from_url('http://www.github.com')\n",
    "print(html.strip()[:50])"
   ]
  }
 ],
 "metadata": {
  "kernelspec": {
   "display_name": "Python 3",
   "language": "python",
   "name": "python3"
  },
  "language_info": {
   "codemirror_mode": {
    "name": "ipython",
    "version": 3
   },
   "file_extension": ".py",
   "mimetype": "text/x-python",
   "name": "python",
   "nbconvert_exporter": "python",
   "pygments_lexer": "ipython3",
   "version": "3.7.4"
  }
 },
 "nbformat": 4,
 "nbformat_minor": 4
}
